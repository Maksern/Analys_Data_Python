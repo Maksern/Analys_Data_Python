{
 "cells": [
  {
   "cell_type": "code",
   "execution_count": 2,
   "metadata": {},
   "outputs": [],
   "source": [
    "import pandas as pd\n",
    "import numpy as np\n",
    "import matplotlib.pyplot as plt\n",
    "from scipy import stats\n",
    "frog_data = pd.read_csv(\"frogs.csv\")"
   ]
  },
  {
   "cell_type": "markdown",
   "metadata": {},
   "source": [
    "# Завдання 1\n",
    "Визначити на якій середній відстані від поселення спостерігаються жаби,а на якій – ні. Порівняти та проаналізувати отримані значення."
   ]
  },
  {
   "cell_type": "code",
   "execution_count": 4,
   "metadata": {},
   "outputs": [
    {
     "name": "stdout",
     "output_type": "stream",
     "text": [
      "Середня відстань до населеного пункту у місцях, де жаби спостерігалися  ---  854.0\n",
      "Середня відстань до населеного пункту у місцях, де жаби НЕ спостерігалися ---  2573.0\n"
     ]
    }
   ],
   "source": [
    "frog_Observed = frog_data[frog_data[\"pres.abs\"] == 1]\n",
    "frog_NOT_Observed = frog_data[frog_data[\"pres.abs\"] == 0]\n",
    "\n",
    "frog_Observed_distance = np.mean(frog_Observed[\"distance\"]).round(0)\n",
    "frog_NOT_Observed_distance = np.mean(frog_NOT_Observed[\"distance\"]).round(0)\n",
    "\n",
    "print(\"Середня відстань до населеного пункту у місцях, де жаби спостерігалися  --- \", frog_Observed_distance)\n",
    "print(\"Середня відстань до населеного пункту у місцях, де жаби НЕ спостерігалися --- \", frog_NOT_Observed_distance)"
   ]
  },
  {
   "cell_type": "markdown",
   "metadata": {},
   "source": [
    "Відповідно, можна зробити висновок: можливість спостерігати жаб вища у місцях, які знаходяться ближче до населених пунктів."
   ]
  },
  {
   "cell_type": "markdown",
   "metadata": {},
   "source": [
    "# Завдання 2\n",
    "Перевірити чи нормально розподілена середня кількість опадів."
   ]
  },
  {
   "cell_type": "markdown",
   "metadata": {},
   "source": [
    "*Основна гіпотеза* - вибірка, яка описує середню кількість опадів нормально розподілена\n",
    "\n",
    "*Альтернативна гіпотеза* - вибірка розподілена не нормально\n",
    "\n",
    "*Рівень значущості* - 0.05"
   ]
  },
  {
   "cell_type": "code",
   "execution_count": 9,
   "metadata": {},
   "outputs": [
    {
     "data": {
      "image/png": "[encoded data removed]",
      "text/plain": [
       "<Figure size 640x480 with 1 Axes>"
      ]
     },
     "metadata": {},
     "output_type": "display_data"
    },
    {
     "name": "stdout",
     "output_type": "stream",
     "text": [
      "0.08013357573404803\n"
     ]
    }
   ],
   "source": [
    "avrain = np.array(frog_data[\"avrain\"].round(2))\n",
    "plt.hist(avrain, bins=30, color='b') \n",
    "plt.xlabel('Значення')\n",
    "plt.ylabel('Частота')\n",
    "plt.title('Гістограма розподілу')\n",
    "plt.show()\n",
    "print(stats.normaltest(avrain).pvalue)"
   ]
  },
  {
   "cell_type": "markdown",
   "metadata": {},
   "source": [
    "Оскільки p-значення вище заданого рівня значущості, то ми **приймаємо** основну гіпотезу. Робимо висновок, що середня кількість опадів розподілена нормально."
   ]
  },
  {
   "cell_type": "markdown",
   "metadata": {},
   "source": [
    "# Завдання 3\n",
    "Визначити, чи є зв’язок між кількістю місць для розмноження та відстанню до поселення."
   ]
  },
  {
   "cell_type": "markdown",
   "metadata": {},
   "source": [
    "*Основна гіпотеза* - коефіцієнт кореляції дорівнює 0 [дані незалежні]\n",
    "\n",
    "*Альтернативна гіпотеза* - коефіцієнт кореляції НЕ дорівнює 0\n",
    "\n",
    "*Критерій перевірки* - Критерій Спірмена\n",
    "\n",
    "*Рівень значущості* - 0.05"
   ]
  },
  {
   "cell_type": "code",
   "execution_count": 16,
   "metadata": {},
   "outputs": [
    {
     "name": "stdout",
     "output_type": "stream",
     "text": [
      "1.1854086024923914e-14\n"
     ]
    }
   ],
   "source": [
    "NoOfSites = np.array(frog_data[\"NoOfSites\"].round(2))\n",
    "distance = np.array(frog_data[\"distance\"].round(2))\n",
    "print(stats.spearmanr(NoOfSites, distance).pvalue)"
   ]
  },
  {
   "cell_type": "markdown",
   "metadata": {},
   "source": [
    "Оскільки p-значення майже нульове, тобто менше нашого рівня значущості, то ми відхиляємо основну гіпотезу. Відповідно, приймаємо альтернативну гіпотезу, що стверджує про залежність наших даних."
   ]
  },
  {
   "cell_type": "markdown",
   "metadata": {},
   "source": [
    "# Завдання 4\n",
    "Перевірити за допомогою статистичних гіпотез чи однакові середні висоти, на яких спостерігаються жаби і на яких – ні."
   ]
  },
  {
   "cell_type": "markdown",
   "metadata": {},
   "source": [
    "*Основна гіпотеза* - різниця математичних сподівань дорівнює нулю\n",
    "\n",
    "*Альтернативна гіпотеза* - різниця математичних сподівань НЕ дорівнює нулю\n",
    "\n",
    "*Критерій перевірки* - ![Alt text](image.png)\n",
    "\n",
    "*Рівень значущості* - 0.05"
   ]
  },
  {
   "cell_type": "code",
   "execution_count": 17,
   "metadata": {},
   "outputs": [
    {
     "name": "stdout",
     "output_type": "stream",
     "text": [
      "0.00046281302837254353\n"
     ]
    }
   ],
   "source": [
    "frog_Observed_Altitude = frog_Observed[\"altitude\"]\n",
    "frog_NOT_Observed_Altitude = frog_NOT_Observed[\"altitude\"]\n",
    "\n",
    "print(stats.ttest_ind(frog_Observed_Altitude, frog_NOT_Observed_Altitude).pvalue)"
   ]
  },
  {
   "cell_type": "markdown",
   "metadata": {},
   "source": [
    "Оскільки p-значення менше нашого рівня значущості, то ми відхиляємо основну гіпотезу. Відповідно, приймаємо альтернативну гіпотезу. Отже, середні висоти у місцях де спостерігалися та не спостерігалися жаби - різні."
   ]
  }
 ],
 "metadata": {
  "kernelspec": {
   "display_name": "base",
   "language": "python",
   "name": "python3"
  },
  "language_info": {
   "codemirror_mode": {
    "name": "ipython",
    "version": 3
   },
   "file_extension": ".py",
   "mimetype": "text/x-python",
   "name": "python",
   "nbconvert_exporter": "python",
   "pygments_lexer": "ipython3",
   "version": "3.11.4"
  },
  "orig_nbformat": 4
 },
 "nbformat": 4,
 "nbformat_minor": 2
}
