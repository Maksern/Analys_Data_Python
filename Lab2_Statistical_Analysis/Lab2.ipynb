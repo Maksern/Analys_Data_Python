{
 "cells": [
  {
   "cell_type": "code",
   "execution_count": 5,
   "metadata": {},
   "outputs": [
    {
     "name": "stdout",
     "output_type": "stream",
     "text": [
      "0      1500\n",
      "1      1520\n",
      "2      1540\n",
      "3      1590\n",
      "4      1590\n",
      "       ... \n",
      "207    1300\n",
      "208    1580\n",
      "209    1640\n",
      "210    1660\n",
      "211    1440\n",
      "Name: altitude, Length: 212, dtype: int64\n"
     ]
    }
   ],
   "source": [
    "import pandas as pd\n",
    "import numpy as np\n",
    "\n",
    "frog_data = pd.read_csv(\"frogs.csv\")\n",
    "print(frog_data[\"altitude\"])"
   ]
  }
 ],
 "metadata": {
  "kernelspec": {
   "display_name": "base",
   "language": "python",
   "name": "python3"
  },
  "language_info": {
   "codemirror_mode": {
    "name": "ipython",
    "version": 3
   },
   "file_extension": ".py",
   "mimetype": "text/x-python",
   "name": "python",
   "nbconvert_exporter": "python",
   "pygments_lexer": "ipython3",
   "version": "3.11.4"
  },
  "orig_nbformat": 4
 },
 "nbformat": 4,
 "nbformat_minor": 2
}
