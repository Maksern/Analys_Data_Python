{
 "cells": [
  {
   "cell_type": "markdown",
   "metadata": {},
   "source": [
    "# Завдання 1\n",
    "Згенерувати  випадкові  і  невипадкові  масиви  різними  способами, зазначеними в теоретичних відомостях:\n",
    "- np.array(data)\n",
    "- nр.аrаngе(1,16,2) \n",
    "- np.ones/zeros/empty\n",
    "- np.linspace(0, 1, 5)\n",
    "- np.random.random((4, 3))   \n",
    "- np.random.randint(0, 100, (4, 4))\n",
    "\n",
    "Всі  масиви  мають  наступні  атрибути:  ndim(розмірність),  shape(розмір кожного виміру),  size(загальний розмір масиву),  dtype(тип елементів), nbytes(розмір масиву в байтах), itemsize (розмір елементу в байтах)."
   ]
  },
  {
   "cell_type": "code",
   "execution_count": null,
   "metadata": {},
   "outputs": [],
   "source": [
    "import numpy as np\n",
    "print(\"Simple examle:\\n\", np.array([[1, 2, 3], [4, 5, 6], [7, 8, 9]]))\n",
    "print(\"Arange example:\", np.arange(0, 23, 2))\n",
    "print(\"Ones/Zeros/Empty examle:\\n\", np.ones((2, 4, 5), dtype=\"int\"))\n",
    "print(\"Linspace example:\", np.linspace(2, 7, 6, dtype=\"int\"))\n",
    "print(\"Random example:\\n\", np.random.random((2, 4)).round(2))\n",
    "print(\"Random Integer example:\\n\", np.random.randint(10, 40, (2, 4)))"
   ]
  },
  {
   "cell_type": "markdown",
   "metadata": {},
   "source": [
    "# Завдання 2\n",
    "Продемонструвати:\n",
    "- звернення до елементів масиву за допомогою індексів\n",
    "- виділення  одновимірних підмасивів  \n",
    "- виділення багатовимірних підмасивів\n",
    "\n",
    "Підмасиви NumPy  не є копіями даних масиву, а їх представленням. Тобто якщо змінити дані в підмасиві, то вони зміняться й у початковому масиві. "
   ]
  },
  {
   "cell_type": "code",
   "execution_count": null,
   "metadata": {},
   "outputs": [],
   "source": [
    "import numpy as np\n",
    "arr_1 = np.arange(0, 10, 1)\n",
    "arr_2 = np.array([[1, 2, 3], [4, 5, 6], [7, 8, 9]])\n",
    "\n",
    "print(\"Fourth element of arr_1 ---\", arr_1[4])\n",
    "print(\"Last element of arr_1 ---\", arr_1[-1])\n",
    "print(\"Middle element of arr_2 ---\", arr_2[1, 1], \"\\n\")\n",
    "\n",
    "print(\"Subarray of arr_1 ---\", arr_1[0:-2])\n",
    "print(\"Subarray of arr_2 ---\\n\", arr_2[0:2, 1:3])"
   ]
  },
  {
   "cell_type": "markdown",
   "metadata": {},
   "source": [
    "# Завдання 3\n",
    "Продемонструвати: \n",
    "- основні арифметичні операції над масивами\n",
    "- роботу методів reduce, accumulate, outer\n",
    "\n",
    "Додавання (+, np.add), віднімання (-, np.subtract), множення (*, np.multiply), ділення (/, np.divide), піднесення до ступеню(**, np.power), ділення за модулем(%, np.mod), зміна знаку на протилежний (-, np.negative)."
   ]
  },
  {
   "cell_type": "code",
   "execution_count": null,
   "metadata": {},
   "outputs": [],
   "source": [
    "import numpy as np\n",
    "arr_1 = np.arange(0, 10, 1, dtype=\"float\")\n",
    "\n",
    "arr_1+=7\n",
    "print(\"Add 7 to array = \", arr_1)\n",
    "\n",
    "arr_1-=7\n",
    "print(\"Substract 7 from array = \", arr_1)\n",
    "\n",
    "arr_1*=2\n",
    "print(\"Multiply array by 2 = \", arr_1)\n",
    "\n",
    "arr_1/=2\n",
    "print(\"Divide array by 2 = \", arr_1)\n",
    "\n",
    "arr_1**=2\n",
    "print(\"Power array by 2 = \", arr_1)\n",
    "\n",
    "arr_1%=7\n",
    "print(\"Mod array by 7 = \", arr_1)\n",
    "\n",
    "arr_1 = -arr_1\n",
    "print(\"Negative array = \", arr_1)\n",
    "\n",
    "print(\"Sum of the getting array ---\", np.add.reduce(arr_1))\n",
    "print(\"Sum(by steps) of the getting array ---\", np.add.accumulate(arr_1))\n",
    "print(\"Sum(of all elements) of the getting array ---\\n\", np.add.outer(arr_1, arr_1))"
   ]
  },
  {
   "cell_type": "markdown",
   "metadata": {},
   "source": [
    "# Завдання 4\n",
    "Вирахувати  статистичні  характеристики величини  ширина пелюстки з набору даних щодо квіток ірису:\n",
    "\n",
    "- мінімальне  і максимальне  значення\n",
    "- вибіркові  середнє\n",
    "- дисперсію\n",
    "- середньоквадратичне  відхилення\n",
    "- медіану  \n",
    "- 25  та  75  персентилі\n",
    "\n",
    "Сума значень np.sum, мінімальне та максимальне значення np.min, np.max, середнє  значення  np.mean,  середньоквадратичне  відхилення  np.std,  дисперсія np.var, медіана np.median, персентилі np.percentile"
   ]
  },
  {
   "cell_type": "code",
   "execution_count": 80,
   "metadata": {},
   "outputs": [
    {
     "name": "stdout",
     "output_type": "stream",
     "text": [
      "Max value =  2.5\n",
      "Min value =  0.1\n",
      "Selective average =  1.2\n",
      "Statistical dispersion =  0.58\n",
      "Standard deviation =  0.76\n",
      "Median value =  1.3\n",
      "25 percentile =  0.3\n",
      "75 percentile =  1.8\n"
     ]
    }
   ],
   "source": [
    "import numpy as np\n",
    "import pandas as pd\n",
    "\n",
    "iris_data = pd.read_csv(\"Data_Iris.csv\")\n",
    "petal_width = np.array(iris_data['petal_width'])\n",
    "\n",
    "print(\"Max value = \", petal_width.max())\n",
    "print(\"Min value = \", petal_width.min())\n",
    "print(\"Selective average = \", np.mean(petal_width).round(2))\n",
    "print(\"Statistical dispersion = \", np.var(petal_width).round(2))\n",
    "print(\"Standard deviation = \", np.std(petal_width).round(2))\n",
    "print(\"Median value = \", np.median(petal_width).round(2))\n",
    "print(\"25 percentile = \", np.percentile(petal_width, 25).round(2))\n",
    "print(\"75 percentile = \", np.percentile(petal_width, 75).round(2))\n"
   ]
  }
 ],
 "metadata": {
  "kernelspec": {
   "display_name": "base",
   "language": "python",
   "name": "python3"
  },
  "language_info": {
   "codemirror_mode": {
    "name": "ipython",
    "version": 3
   },
   "file_extension": ".py",
   "mimetype": "text/x-python",
   "name": "python",
   "nbconvert_exporter": "python",
   "pygments_lexer": "ipython3",
   "version": "3.11.4"
  },
  "orig_nbformat": 4
 },
 "nbformat": 4,
 "nbformat_minor": 2
}
