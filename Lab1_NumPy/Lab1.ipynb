{
 "cells": [
  {
   "cell_type": "markdown",
   "metadata": {},
   "source": [
    "# Завдання 1\n",
    "Згенерувати  випадкові  і  невипадкові  масиви  різними  способами, зазначеними в теоретичних відомостях:\n",
    "- nр.аrаngе(1,16,2) \n",
    "- np.ones/zeros/empty\n",
    "- np.linspace(0, 1, 5)\n",
    "- np.random.random((4, 3))   \n",
    "- np.random.randint(0, 100, (4, 4))\n",
    "\n",
    "Всі  масиви  мають  наступні  атрибути:  ndim  (розмірність),  shape  (розмір \n",
    "кожного виміру),  size (загальний розмір масиву),  dtype  (тип елементів), nbytes \n",
    "(розмір масиву в байтах), itemsize (розмір елементу в байтах)."
   ]
  },
  {
   "cell_type": "code",
   "execution_count": null,
   "metadata": {},
   "outputs": [],
   "source": [
    "import numpy as np\n",
    "print(\"Arange example:\", np.arange(0, 23, 2))\n",
    "print(\"Ones/Zeros/Empty examle\", np.ones((2, 4, 5), dtype=\"int\"))\n",
    "print(\"Linspace example:\", np.linspace(2, 7, 6, dtype=\"int\"))\n",
    "print(\"Random example:\", np.random.random((2, 4)).round(2))\n",
    "print(\"Random Integer example:\", np.random.randint(10, 40, (2, 4)))"
   ]
  }
 ],
 "metadata": {
  "kernelspec": {
   "display_name": "base",
   "language": "python",
   "name": "python3"
  },
  "language_info": {
   "name": "python",
   "version": "3.11.4"
  },
  "orig_nbformat": 4
 },
 "nbformat": 4,
 "nbformat_minor": 2
}
